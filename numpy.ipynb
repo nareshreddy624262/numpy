{
 "cells": [
  {
   "cell_type": "code",
   "execution_count": 2,
   "id": "85a5851a",
   "metadata": {},
   "outputs": [],
   "source": [
    "import numpy as np"
   ]
  },
  {
   "cell_type": "markdown",
   "id": "194b6574",
   "metadata": {},
   "source": [
    "list convert into array"
   ]
  },
  {
   "cell_type": "code",
   "execution_count": 3,
   "id": "ad2cfeed",
   "metadata": {},
   "outputs": [
    {
     "data": {
      "text/plain": [
       "array([2, 4, 6, 3, 4, 7, 4, 3])"
      ]
     },
     "execution_count": 3,
     "metadata": {},
     "output_type": "execute_result"
    }
   ],
   "source": [
    "lst = [2,4,6,3,4,7,4,3]\n",
    "arr = np.array(lst)\n",
    "arr"
   ]
  },
  {
   "cell_type": "markdown",
   "id": "2088efca",
   "metadata": {},
   "source": [
    "# arange function "
   ]
  },
  {
   "cell_type": "markdown",
   "id": "1433d6fb",
   "metadata": {},
   "source": [
    "The arange([start,] stop[, step,][, dtype]) : Returns an array with evenly spaced elements as per the interval. The interval mentioned is half-opened i.e. [Start, Stop) "
   ]
  },
  {
   "cell_type": "code",
   "execution_count": 4,
   "id": "fab7dba8",
   "metadata": {},
   "outputs": [
    {
     "data": {
      "text/plain": [
       "array([1, 2, 3, 4, 5, 6, 7, 8])"
      ]
     },
     "execution_count": 4,
     "metadata": {},
     "output_type": "execute_result"
    }
   ],
   "source": [
    "arr = np.arange(1,9)\n",
    "arr"
   ]
  },
  {
   "cell_type": "markdown",
   "id": "43c38fec",
   "metadata": {},
   "source": [
    "# multidimensional array\n"
   ]
  },
  {
   "cell_type": "code",
   "execution_count": 5,
   "id": "a2682aca",
   "metadata": {},
   "outputs": [
    {
     "data": {
      "text/plain": [
       "array([[1, 2, 3],\n",
       "       [4, 5, 6],\n",
       "       [7, 8, 9]])"
      ]
     },
     "execution_count": 5,
     "metadata": {},
     "output_type": "execute_result"
    }
   ],
   "source": [
    "arr = np.array([[1,2,3],[4,5,6],[7,8,9]])\n",
    "arr"
   ]
  },
  {
   "cell_type": "markdown",
   "id": "5764b692",
   "metadata": {},
   "source": [
    "# size function"
   ]
  },
  {
   "cell_type": "markdown",
   "id": "cb544930",
   "metadata": {},
   "source": [
    "In Python, numpy.size() function count the number of elements along a given axis (0 - Rows | 1 - Columns)"
   ]
  },
  {
   "cell_type": "code",
   "execution_count": 6,
   "id": "16750d99",
   "metadata": {},
   "outputs": [
    {
     "name": "stdout",
     "output_type": "stream",
     "text": [
      "[[2 3 4]\n",
      " [5 6 7]\n",
      " [8 7 5]]\n",
      "--------------------\n",
      "total  : 9\n",
      "total  : 3\n",
      "total  : 3\n",
      "--------------------\n"
     ]
    }
   ],
   "source": [
    "arr = np.array([[2,3,4],[5,6,7],[8,7,5]])\n",
    "print(arr)\n",
    "\n",
    "print(\"-\"*20)\n",
    "print(\"total  :\",np.size(arr))\n",
    "print(\"total  :\",np.size(arr,0))\n",
    "print(\"total  :\",np.size(arr,1))\n",
    "print(\"-\"*20)\n"
   ]
  },
  {
   "cell_type": "markdown",
   "id": "a6309dee",
   "metadata": {},
   "source": [
    "# shape function"
   ]
  },
  {
   "cell_type": "markdown",
   "id": "1c24d03f",
   "metadata": {},
   "source": [
    "The shape of an array can be defined as the number of elements in each dimension. Dimension is the number of indices or subscripts, that we require in order to specify an individual element of an array."
   ]
  },
  {
   "cell_type": "code",
   "execution_count": 7,
   "id": "c9c3b357",
   "metadata": {},
   "outputs": [
    {
     "name": "stdout",
     "output_type": "stream",
     "text": [
      "[[1 2 3]\n",
      " [4 5 6]\n",
      " [6 5 4]\n",
      " [3 6 4]\n",
      " [6 5 4]]\n",
      "--------------------\n",
      "\n"
     ]
    },
    {
     "data": {
      "text/plain": [
       "(5, 3)"
      ]
     },
     "execution_count": 7,
     "metadata": {},
     "output_type": "execute_result"
    }
   ],
   "source": [
    "arr = np.array([[1,2,3],[4,5,6],[6,5,4],[3,6,4],[6,5,4]])\n",
    "print(arr)\n",
    "print(\"-\"*20)\n",
    "print()\n",
    "np.shape(arr)"
   ]
  },
  {
   "cell_type": "markdown",
   "id": "93e48814",
   "metadata": {},
   "source": [
    "# dtype function"
   ]
  },
  {
   "cell_type": "raw",
   "id": "eb4a8d10",
   "metadata": {},
   "source": [
    "\n",
    "Every ndarray has an associated data type (dtype) object. This data type object (dtype) informs us about the layout of the array. This means it gives us information about:\n",
    "\n",
    "Type of the data (integer, float, Python object, etc.)\n",
    "Size of the data (number of bytes)\n",
    "The byte order of the data (little-endian or big-endian)\n",
    "If the data type is a sub-array, what is its shape and data type?\n"
   ]
  },
  {
   "cell_type": "code",
   "execution_count": 8,
   "id": "e05f2433",
   "metadata": {},
   "outputs": [
    {
     "name": "stdout",
     "output_type": "stream",
     "text": [
      "int32\n",
      "float64\n"
     ]
    }
   ],
   "source": [
    "arr1 = np.array([1,2,3,4,5,6,7])\n",
    "arr2 = np.array([1.1,2.2,3.3,4.4,5.5,6.6])\n",
    "print(arr1.dtype)\n",
    "print(arr2.dtype)"
   ]
  },
  {
   "cell_type": "markdown",
   "id": "65664384",
   "metadata": {},
   "source": [
    "# Ndim function"
   ]
  },
  {
   "cell_type": "markdown",
   "id": "dd25166e",
   "metadata": {},
   "source": [
    "numpy.ndarray.ndim() function return the number of dimensions of an array."
   ]
  },
  {
   "cell_type": "code",
   "execution_count": 9,
   "id": "77a3e14c",
   "metadata": {},
   "outputs": [
    {
     "name": "stdout",
     "output_type": "stream",
     "text": [
      "--------------------\n",
      "[1 2 3 4 5 6]\n",
      "1\n",
      "--------------------\n",
      "[[ 1  2  3]\n",
      " [ 4  5  6]\n",
      " [78  6  4]]\n",
      "2\n",
      "--------------------\n",
      "[[[1 2 3 4 5 6]]]\n",
      "3\n"
     ]
    }
   ],
   "source": [
    "arr1 = np.array([1,2,3,4,5,6])\n",
    "arr2 = np.array([[1,2,3],[4,5,6],[78,6,4]])\n",
    "print(\"-\"*20)\n",
    "print(arr1)\n",
    "print(arr1.ndim)\n",
    "print(\"-\"*20)\n",
    "print(arr2)\n",
    "print(arr2.ndim)\n",
    "print(\"-\"*20)\n",
    "arr3 = np.array(arr1,ndmin = 3)\n",
    "print(arr3)\n",
    "print(arr3.ndim)\n"
   ]
  },
  {
   "cell_type": "markdown",
   "id": "8512b2b1",
   "metadata": {},
   "source": [
    "# zero function"
   ]
  },
  {
   "cell_type": "markdown",
   "id": "b609008c",
   "metadata": {},
   "source": [
    "\n",
    "The numpy.zeros() function returns a new array of given shape and type, with zeros. Syntax:\n",
    "\n",
    "numpy.zeros(shape, dtype = None)"
   ]
  },
  {
   "cell_type": "code",
   "execution_count": 10,
   "id": "df6d8d1e",
   "metadata": {},
   "outputs": [
    {
     "name": "stdout",
     "output_type": "stream",
     "text": [
      "====================\n",
      "3 X 3  zeros matrix\n",
      "[[0 0 0]\n",
      " [0 0 0]\n",
      " [0 0 0]]\n",
      "====================\n",
      "3 X 4  zeros matrix\n",
      "[[0 0 0 0]\n",
      " [0 0 0 0]\n",
      " [0 0 0 0]]\n"
     ]
    }
   ],
   "source": [
    "arr = np.zeros(shape = (3,3),dtype = int)\n",
    "print(\"=\"*20)\n",
    "print(\"3 X 3  zeros matrix\")\n",
    "print(arr)\n",
    "print(\"=\"*20)\n",
    "arr = np.zeros(shape = (3,4),dtype = int)\n",
    "print(\"3 X 4  zeros matrix\")\n",
    "print(arr)"
   ]
  },
  {
   "cell_type": "markdown",
   "id": "53d9412e",
   "metadata": {},
   "source": [
    "# ones function"
   ]
  },
  {
   "cell_type": "markdown",
   "id": "711eb0d7",
   "metadata": {},
   "source": [
    "The numpy.ones() function returns a new array of given shape and type, with ones.\n",
    "\n",
    "Syntax: numpy.ones(shape, dtype = None)"
   ]
  },
  {
   "cell_type": "code",
   "execution_count": 11,
   "id": "f3c6ece5",
   "metadata": {},
   "outputs": [
    {
     "name": "stdout",
     "output_type": "stream",
     "text": [
      "[[1 1 1]\n",
      " [1 1 1]\n",
      " [1 1 1]]\n",
      "====================\n",
      "[[1 1 1 1]\n",
      " [1 1 1 1]\n",
      " [1 1 1 1]\n",
      " [1 1 1 1]]\n"
     ]
    }
   ],
   "source": [
    "arr = np.ones(shape = (3,3),dtype = int)\n",
    "print(arr)\n",
    "print(\"=\"*20)\n",
    "arr = np.ones(shape = (4,4),dtype = int)\n",
    "print(arr)\n"
   ]
  },
  {
   "cell_type": "markdown",
   "id": "7bc6b78a",
   "metadata": {},
   "source": [
    "# eye function"
   ]
  },
  {
   "cell_type": "markdown",
   "id": "830a467e",
   "metadata": {},
   "source": [
    "The eye tool returns a 2-D array with  1’s as the diagonal and  0’s elsewhere. The diagonal can be main, upper, or lower depending on the optional parameter k."
   ]
  },
  {
   "cell_type": "code",
   "execution_count": 12,
   "id": "85036f83",
   "metadata": {},
   "outputs": [
    {
     "name": "stdout",
     "output_type": "stream",
     "text": [
      "[[1 0 0 0 0]\n",
      " [0 1 0 0 0]\n",
      " [0 0 1 0 0]\n",
      " [0 0 0 1 0]\n",
      " [0 0 0 0 1]]\n",
      "====================\n",
      "[[1 0 0 0 0 0 0 0 0 0]\n",
      " [0 1 0 0 0 0 0 0 0 0]\n",
      " [0 0 1 0 0 0 0 0 0 0]\n",
      " [0 0 0 1 0 0 0 0 0 0]\n",
      " [0 0 0 0 1 0 0 0 0 0]\n",
      " [0 0 0 0 0 1 0 0 0 0]\n",
      " [0 0 0 0 0 0 1 0 0 0]\n",
      " [0 0 0 0 0 0 0 1 0 0]\n",
      " [0 0 0 0 0 0 0 0 1 0]\n",
      " [0 0 0 0 0 0 0 0 0 1]]\n"
     ]
    }
   ],
   "source": [
    "arr = np.eye(5, dtype = int)\n",
    "print(arr)\n",
    "print(\"=\"*20)\n",
    "arr = np.eye(10, dtype = int)\n",
    "print(arr)\n"
   ]
  },
  {
   "cell_type": "markdown",
   "id": "9df16750",
   "metadata": {},
   "source": [
    "# empty function"
   ]
  },
  {
   "cell_type": "markdown",
   "id": "c5685db5",
   "metadata": {},
   "source": [
    "Return am empty array of given shape and type"
   ]
  },
  {
   "cell_type": "code",
   "execution_count": 13,
   "id": "8415c9cc",
   "metadata": {},
   "outputs": [
    {
     "data": {
      "text/plain": [
       "array([[1.07434079e-311, 7.90505033e-322, 0.00000000e+000,\n",
       "        0.00000000e+000, 2.05833592e-312],\n",
       "       [1.16095484e-028, 2.17237198e-153, 7.87623503e-114,\n",
       "        2.17235718e-153, 4.62174715e+252],\n",
       "       [7.26589284e+223, 7.35874688e+223, 4.07191583e+223,\n",
       "        3.60798138e-143, 9.15390336e+135],\n",
       "       [2.93494599e+222, 5.34243127e+246, 2.06065340e-115,\n",
       "        1.12959020e+277, 6.96742105e+252],\n",
       "       [6.96770842e+252, 7.78025698e-143, 2.91237123e+257,\n",
       "        4.71294503e+257, 1.09799306e+295]])"
      ]
     },
     "execution_count": 13,
     "metadata": {},
     "output_type": "execute_result"
    }
   ],
   "source": [
    "np.empty(shape = (5,5))"
   ]
  },
  {
   "cell_type": "markdown",
   "id": "6daf799d",
   "metadata": {},
   "source": [
    "# Random function"
   ]
  },
  {
   "cell_type": "markdown",
   "id": "68ef0fbd",
   "metadata": {},
   "source": [
    "The numpy.random.rand() function creates an array of specified shape and fills it with random values."
   ]
  },
  {
   "cell_type": "markdown",
   "id": "3778bbec",
   "metadata": {},
   "source": [
    "# a) np.random.rand"
   ]
  },
  {
   "cell_type": "markdown",
   "id": "0eb4f3f9",
   "metadata": {},
   "source": [
    "The numpy.random.rand() function creates an array of specified shape and fills it with random values."
   ]
  },
  {
   "cell_type": "code",
   "execution_count": 14,
   "id": "5dda034b",
   "metadata": {},
   "outputs": [
    {
     "name": "stdout",
     "output_type": "stream",
     "text": [
      "[[0.5654071  0.7828827  0.0430027  0.29613056]\n",
      " [0.19953092 0.4777213  0.38020087 0.51824451]\n",
      " [0.82643069 0.01420629 0.24432984 0.38646727]]\n"
     ]
    }
   ],
   "source": [
    "random_numbers = np.random.rand(3,4)\n",
    "print(random_numbers)"
   ]
  },
  {
   "cell_type": "markdown",
   "id": "67f81ee8",
   "metadata": {},
   "source": [
    "# np.random.randint"
   ]
  },
  {
   "cell_type": "markdown",
   "id": "1e124dbc",
   "metadata": {},
   "source": [
    "numpy.random.randint() is one of the function for doing random sampling in numpy. It returns an array of specified shape and fills it with random integers from low (inclusive) to high (exclusive), i.e. in the interval [low, high)."
   ]
  },
  {
   "cell_type": "code",
   "execution_count": 15,
   "id": "739a0278",
   "metadata": {},
   "outputs": [
    {
     "data": {
      "text/plain": [
       "array([27,  7, 36, 24, 75, 20, 36,  4, 71, 26, 13, 44, 46, 63, 68, 24, 85,\n",
       "       58, 27, 30])"
      ]
     },
     "execution_count": 15,
     "metadata": {},
     "output_type": "execute_result"
    }
   ],
   "source": [
    "random = np.random.randint(low = 2, high = 89, size = 20)\n",
    "random"
   ]
  },
  {
   "cell_type": "markdown",
   "id": "a179415a",
   "metadata": {},
   "source": [
    "# np.random.randn"
   ]
  },
  {
   "cell_type": "markdown",
   "id": "8c16b408",
   "metadata": {},
   "source": [
    "\n",
    "The numpy.random.randn() function creates an array of specified shape and fills it with random values as per standard normal distribution."
   ]
  },
  {
   "cell_type": "code",
   "execution_count": 16,
   "id": "a07cb590",
   "metadata": {},
   "outputs": [
    {
     "data": {
      "image/png": "[encoded data removed]",
      "text/plain": [
       "<Figure size 640x480 with 1 Axes>"
      ]
     },
     "metadata": {},
     "output_type": "display_data"
    }
   ],
   "source": [
    "from matplotlib import pyplot as plt\n",
    "plt.hist(np.random.randn(100000000), bins = 10000);"
   ]
  },
  {
   "cell_type": "markdown",
   "id": "0d47ecf5",
   "metadata": {},
   "source": [
    "# reshape function"
   ]
  },
  {
   "cell_type": "markdown",
   "id": "b422ee94",
   "metadata": {},
   "source": [
    "The numpy.reshape() function shapes an array without changing the data of the array.<br> It should be noted that the product if the rows and columns should be same "
   ]
  },
  {
   "cell_type": "code",
   "execution_count": 17,
   "id": "19a407ec",
   "metadata": {
    "scrolled": true
   },
   "outputs": [
    {
     "name": "stdout",
     "output_type": "stream",
     "text": [
      "[[66 69 59 78]\n",
      " [66 66 37 46]\n",
      " [35 76 33 34]\n",
      " [39 30 62 38]]\n",
      "====================\n",
      "[[66 69]\n",
      " [59 78]\n",
      " [66 66]\n",
      " [37 46]\n",
      " [35 76]\n",
      " [33 34]\n",
      " [39 30]\n",
      " [62 38]]\n",
      "====================\n",
      "[[66 69 59 78 66 66 37 46]\n",
      " [35 76 33 34 39 30 62 38]]\n"
     ]
    }
   ],
   "source": [
    "arr = np.random.randint(30,80, (4,4))\n",
    "print(arr)\n",
    "print(\"=\"*20)\n",
    "print(arr.reshape(8,2))\n",
    "print(\"=\"*20)\n",
    "print(arr.reshape(2,8))"
   ]
  },
  {
   "cell_type": "markdown",
   "id": "be1793a0",
   "metadata": {},
   "source": [
    "# linespace function"
   ]
  },
  {
   "cell_type": "markdown",
   "id": "fb507c10",
   "metadata": {},
   "source": [
    "\n",
    "The numpy.linspace() function returns number spaces evenly w.r.t interval. Similar to numpy.arange() function but instead of step it uses sample number."
   ]
  },
  {
   "cell_type": "raw",
   "id": "038f6b89",
   "metadata": {},
   "source": [
    "\n",
    "Parameters :\n",
    "\n",
    "-> start : [optional] start of interval range. By default start = 0\n",
    "-> stop : end of interval range\n",
    "-> restep : If True, return (samples, step). By default restep = False\n",
    "-> num : [int, optional] No. of samples to generate\n",
    "-> dtype : type of output array"
   ]
  },
  {
   "cell_type": "code",
   "execution_count": 18,
   "id": "6bdf315b",
   "metadata": {},
   "outputs": [
    {
     "data": {
      "text/plain": [
       "array([2.  , 2.25, 2.5 , 2.75, 3.  ])"
      ]
     },
     "execution_count": 18,
     "metadata": {},
     "output_type": "execute_result"
    }
   ],
   "source": [
    "linspace = np.linspace(2,3,5)\n",
    "linspace"
   ]
  },
  {
   "cell_type": "markdown",
   "id": "5f5ed714",
   "metadata": {},
   "source": [
    "# flatten function"
   ]
  },
  {
   "cell_type": "markdown",
   "id": "9c94b2b6",
   "metadata": {},
   "source": [
    "ndarray.flatten() function return a copy of the array collapsed into one dimension."
   ]
  },
  {
   "cell_type": "code",
   "execution_count": 19,
   "id": "2221c4bb",
   "metadata": {},
   "outputs": [
    {
     "name": "stdout",
     "output_type": "stream",
     "text": [
      "[[4 6 4 7]\n",
      " [7 6 7 2]\n",
      " [3 7 5 5]\n",
      " [7 6 4 4]]\n",
      "--------------------\n",
      "[4 6 4 7 7 6 7 2 3 7 5 5 7 6 4 4]\n"
     ]
    }
   ],
   "source": [
    "arr = np.random.randint(2,9,(4,4))\n",
    "print(arr)\n",
    "print(\"-\"*20)\n",
    "flatten = arr.flatten()\n",
    "print(flatten)"
   ]
  },
  {
   "cell_type": "markdown",
   "id": "26b01d7a",
   "metadata": {},
   "source": [
    "# array ,max, min, sum function"
   ]
  },
  {
   "cell_type": "raw",
   "id": "4c9ab772",
   "metadata": {},
   "source": [
    "arr.max() will give us the maximum element present in the array\n",
    "arr.min() will give us the minimun element present in the array\n",
    "arr.sum() will give us the sum of all the elements present in the array"
   ]
  },
  {
   "cell_type": "code",
   "execution_count": 20,
   "id": "402a951f",
   "metadata": {},
   "outputs": [
    {
     "name": "stdout",
     "output_type": "stream",
     "text": [
      "[[64 49 57 79 73]\n",
      " [73 70 64 78 26]\n",
      " [40 66 63 33 28]\n",
      " [75 32 34 48 43]\n",
      " [60 40 31 54 56]]\n",
      "--------------------\n",
      "MAX   : 79\n",
      "--------------------\n",
      "MIN   : 26\n",
      "--------------------\n",
      "SUM   : 1336\n",
      "--------------------\n"
     ]
    }
   ],
   "source": [
    "arr = np.random.randint(20,80,(5,5))\n",
    "print(arr)\n",
    "print(\"-\"*20)\n",
    "print(\"MAX   :\",arr.max())\n",
    "print(\"-\"*20)\n",
    "print(\"MIN   :\",arr.min())\n",
    "print(\"-\"*20)\n",
    "print(\"SUM   :\",arr.sum())\n",
    "print(\"-\"*20)"
   ]
  },
  {
   "cell_type": "raw",
   "id": "6200b066",
   "metadata": {},
   "source": [
    "We can use the axis parameter to get the max, min and sum of a particular column or row\n",
    "\n",
    "----> axis =1 for rows\n",
    "----> axis -0 for columns"
   ]
  },
  {
   "cell_type": "code",
   "execution_count": 21,
   "id": "ec247b4c",
   "metadata": {},
   "outputs": [
    {
     "name": "stdout",
     "output_type": "stream",
     "text": [
      "[[116  41  43 103  74]\n",
      " [ 41  54  73  47  71]\n",
      " [ 92  47  40 119  48]\n",
      " [110  92 117 117 107]\n",
      " [ 44  54  96  44  93]]\n",
      "--------------------------------------------------\n",
      "MAX of row    : [116  73 119 117  96]\n",
      "--------------------------------------------------\n",
      "MIN of row    : [41 41 40 92 44]\n",
      "--------------------------------------------------\n",
      "SUM of row    : [377 286 346 543 331]\n",
      "--------------------------------------------------\n"
     ]
    }
   ],
   "source": [
    "arr = np.random.randint(40,120,(5,5))\n",
    "print(arr)\n",
    "print(\"-\"*50)\n",
    "print(\"MAX of row    :\",arr.max(1))\n",
    "print(\"-\"*50)\n",
    "print(\"MIN of row    :\",arr.min(1))\n",
    "print(\"-\"*50)\n",
    "print(\"SUM of row    :\",arr.sum(1))\n",
    "print(\"-\"*50)"
   ]
  },
  {
   "cell_type": "markdown",
   "id": "3d434c41",
   "metadata": {},
   "source": [
    "for columns \n",
    " "
   ]
  },
  {
   "cell_type": "code",
   "execution_count": 22,
   "id": "f4d88044",
   "metadata": {},
   "outputs": [
    {
     "name": "stdout",
     "output_type": "stream",
     "text": [
      "[[16521 11434 13809 14083 21903]\n",
      " [16348 23590 20957 20507 19489]\n",
      " [ 4121 21412 19227 16362   420]\n",
      " [14895 19243  1081 13835  7015]\n",
      " [ 2422  3641  6088  1577 18906]]\n",
      "------------------------------------------------------------\n",
      "MAX of column   : [16521 23590 20957 20507 21903]\n",
      "------------------------------------------------------------\n",
      "MIN of column   : [2422 3641 1081 1577  420]\n",
      "------------------------------------------------------------\n",
      "SUM of column   : [54307 79320 61162 66364 67733]\n",
      "------------------------------------------------------------\n"
     ]
    }
   ],
   "source": [
    "arr = np.random.randint(344,24232,(5,5))\n",
    "print(arr)\n",
    "print(\"-\"*60)\n",
    "print(\"MAX of column   :\",arr.max(axis = 0))\n",
    "print(\"-\"*60)\n",
    "print(\"MIN of column   :\",arr.min(axis = 0))\n",
    "print(\"-\"*60)\n",
    "print(\"SUM of column   :\",arr.sum(axis = 0))\n",
    "print(\"-\"*60)"
   ]
  },
  {
   "cell_type": "markdown",
   "id": "840996a2",
   "metadata": {},
   "source": [
    "# seed function"
   ]
  },
  {
   "cell_type": "markdown",
   "id": "23786155",
   "metadata": {},
   "source": [
    "random() function is used to generate random numbers in Python. Not actually random, rather this is used to generate pseudo-random numbers. That implies that these randomly generated numbers can be determined. random() function generates numbers for some values. This value is also called seed value."
   ]
  },
  {
   "cell_type": "code",
   "execution_count": 36,
   "id": "94f828b6",
   "metadata": {},
   "outputs": [
    {
     "data": {
      "text/plain": [
       "array([[7, 5, 6],\n",
       "       [2, 3, 5],\n",
       "       [7, 2, 2]])"
      ]
     },
     "execution_count": 36,
     "metadata": {},
     "output_type": "execute_result"
    }
   ],
   "source": [
    "np.random.seed(1)\n",
    "arr = np.random.randint(2,9,(3,3))\n",
    "arr"
   ]
  },
  {
   "cell_type": "markdown",
   "id": "64e2f5f3",
   "metadata": {},
   "source": [
    "# sorting function"
   ]
  },
  {
   "cell_type": "markdown",
   "id": "2f9e3699",
   "metadata": {},
   "source": [
    "numpy.sort() : This function returns a sorted copy of an array."
   ]
  },
  {
   "cell_type": "raw",
   "id": "a0ed37a0",
   "metadata": {},
   "source": [
    "parameters :\n",
    "\n",
    "arr : Array to be sorted.\n",
    "axis : Axis along which we need array to be started.\n",
    "order : This argument specifies which fields to compare first.\n",
    "kind : [‘quicksort’{default}, ‘mergesort’, ‘heapsort’]Sorting algorithm."
   ]
  },
  {
   "cell_type": "code",
   "execution_count": 45,
   "id": "eb24bf5d",
   "metadata": {},
   "outputs": [
    {
     "name": "stdout",
     "output_type": "stream",
     "text": [
      "[[62 44 66 53 41 65]\n",
      " [89 62 76 57 79 68]\n",
      " [88 30 52 63 36 66]\n",
      " [48 57 58 67 82 68]\n",
      " [80 60 87 80 76 37]\n",
      " [51 46 69 59 41 89]]\n",
      "------------------------------\n",
      "[[41 44 53 62 65 66]\n",
      " [57 62 68 76 79 89]\n",
      " [30 36 52 63 66 88]\n",
      " [48 57 58 67 68 82]\n",
      " [37 60 76 80 80 87]\n",
      " [41 46 51 59 69 89]]\n",
      "------------------------------\n",
      "[[48 30 52 53 36 37]\n",
      " [51 44 58 57 41 65]\n",
      " [62 46 66 59 41 66]\n",
      " [80 57 69 63 76 68]\n",
      " [88 60 76 67 79 68]\n",
      " [89 62 87 80 82 89]]\n",
      "------------------------------\n",
      "[[41 44 53 62 65 66]\n",
      " [57 62 68 76 79 89]\n",
      " [30 36 52 63 66 88]\n",
      " [48 57 58 67 68 82]\n",
      " [37 60 76 80 80 87]\n",
      " [41 46 51 59 69 89]]\n"
     ]
    }
   ],
   "source": [
    "arr = np.random.randint(30,90,(6,6))\n",
    "print(arr)\n",
    "print(\"-\"*30)\n",
    "print(np.sort(arr))\n",
    "print(\"-\"*30)\n",
    "print(np.sort(arr, axis = 0))\n",
    "print(\"-\"*30)\n",
    "print(np.sort(arr,axis =1))"
   ]
  },
  {
   "cell_type": "markdown",
   "id": "c36e389e",
   "metadata": {},
   "source": [
    "# mathamaticla function for numpy array"
   ]
  },
  {
   "cell_type": "markdown",
   "id": "56e317ef",
   "metadata": {},
   "source": [
    "# a) Addition"
   ]
  },
  {
   "cell_type": "code",
   "execution_count": 57,
   "id": "5981a9d7",
   "metadata": {},
   "outputs": [
    {
     "name": "stdout",
     "output_type": "stream",
     "text": [
      "----------------------------------------\n",
      "matrix of array1  \n",
      "----------------------------------------\n",
      "[[ 45  47 118  77 118  73]\n",
      " [ 67  91 117  70  83  86]\n",
      " [ 49 107  43 107  94 103]\n",
      " [ 68  77 104  77  58 118]\n",
      " [110  92  50  72  86 103]\n",
      " [ 58  76  69  79  68  94]]\n",
      "----------------------------------------\n",
      "matrix of array2  \n",
      "----------------------------------------\n",
      "[[50 46 49 44 62 63]\n",
      " [67 48 61 63 58 50]\n",
      " [61 43 69 54 60 51]\n",
      " [68 61 49 50 42 60]\n",
      " [51 56 66 53 50 43]\n",
      " [51 68 50 61 42 52]]\n",
      "----------------------------------------\n",
      "addition of matrix of array1 and aarray2  \n",
      "----------------------------------------\n",
      "[[ 95 136 152 136 136 180]\n",
      " [144 142 105 146 109 119]\n",
      " [177 115 159 145 142 114]\n",
      " [151 129 153 148 133 122]\n",
      " [101 127 115  99 120 150]\n",
      " [109 120 163 175 147 145]]\n",
      "----------------------------------------\n"
     ]
    }
   ],
   "source": [
    "arr1 = np.random.randint(40,120,(6,6))\n",
    "print(\"-\"*40)\n",
    "print(\"matrix of array1  \")\n",
    "print(\"-\"*40)\n",
    "print(arr)\n",
    "print(\"-\"*40)\n",
    "arr2 = np.random.randint(40,70,(6,6))\n",
    "\n",
    "print(\"matrix of array2  \")\n",
    "print(\"-\"*40)\n",
    "print(arr2)\n",
    "\n",
    "print(\"-\"*40)\n",
    "print(\"addition of matrix of array1 and aarray2  \")\n",
    "print(\"-\"*40)\n",
    "print(arr1+arr2)\n",
    "print(\"-\"*40)\n",
    "\n"
   ]
  },
  {
   "cell_type": "markdown",
   "id": "0bcd60bc",
   "metadata": {},
   "source": [
    "# b) subtraction"
   ]
  },
  {
   "cell_type": "code",
   "execution_count": 61,
   "id": "e3dc3ed9",
   "metadata": {},
   "outputs": [
    {
     "name": "stdout",
     "output_type": "stream",
     "text": [
      "----------------------------------------\n",
      "array1  :\n",
      "[[43 44 44 39 36 57]\n",
      " [46 50 53 33 37 36]\n",
      " [51 30 48 56 39 39]\n",
      " [58 33 48 51 45 31]\n",
      " [37 55 38 37 49 31]\n",
      " [37 33 59 37 59 57]]\n",
      "----------------------------------------\n",
      "----------------------------------------\n",
      "array2     :\n",
      "----------------------------------------\n",
      "[[ 872 3633 4749 8156 8242  637]\n",
      " [4670 6169 1284 5977 6175 4846]\n",
      " [7577 7411 7574 5831 1123   33]\n",
      " [5564  251 7950 6732 8790 3803]\n",
      " [2188 1345 5414  135 4411 5064]\n",
      " [7452 8317 7660 3239 4600 8852]]\n",
      "----------------------------------------\n",
      "subtraction of arry 1 and array2  :\n",
      "----------------------------------------\n",
      "[[ -829 -3589 -4705 -8117 -8206  -580]\n",
      " [-4624 -6119 -1231 -5944 -6138 -4810]\n",
      " [-7526 -7381 -7526 -5775 -1084     6]\n",
      " [-5506  -218 -7902 -6681 -8745 -3772]\n",
      " [-2151 -1290 -5376   -98 -4362 -5033]\n",
      " [-7415 -8284 -7601 -3202 -4541 -8795]]\n"
     ]
    }
   ],
   "source": [
    "arr1 = np.random.randint(30,60,(6,6))\n",
    "print(\"-\"*40)\n",
    "print(\"array1  :\")\n",
    "print(arr1)\n",
    "print(\"-\"*40)\n",
    "arr2 = np.random.randint(4,8999,(6,6))\n",
    "print(\"-\"*40)\n",
    "print(\"array2     :\")\n",
    "print(\"-\"*40)\n",
    "print(arr2)\n",
    "print(\"-\"*40)\n",
    "print(\"subtraction of arry 1 and array2  :\")\n",
    "print(\"-\"*40)\n",
    "print(arr1-arr2)"
   ]
  },
  {
   "cell_type": "markdown",
   "id": "4f8e6156",
   "metadata": {},
   "source": [
    "# c) multiplication"
   ]
  },
  {
   "cell_type": "code",
   "execution_count": 62,
   "id": "c1ed8c5c",
   "metadata": {},
   "outputs": [
    {
     "name": "stdout",
     "output_type": "stream",
     "text": [
      "----------------------------------------\n",
      "array1    :\n",
      "----------------------------------------\n",
      "[[ 255 3351  514 1014 6527 1249]\n",
      " [5440 5087 1881 3286 6506 6150]\n",
      " [6196 4545 2185 2227 5506 6427]\n",
      " [1828 5009 5847 1525 3408 3555]\n",
      " [1031 2830 4983 3713 2582  864]\n",
      " [6217 3534 3076  531  444 3602]]\n",
      "----------------------------------------\n",
      "----------------------------------------\n",
      "arra2   :\n",
      "----------------------------------------\n",
      "[[3425 4719 1953 4301 4124  456]\n",
      " [3747 1458 4055 1241 5076 3894]\n",
      " [3416 3181 3054 1873  999 4848]\n",
      " [1686 3925 2796 4242 4153 5075]\n",
      " [2659 3554 4405 4556 4421 5216]\n",
      " [2411  648 3741 2847 4365 1583]]\n",
      "----------------------------------------\n",
      "multiplication of arry1 and array2  is   :\n",
      "----------------------------------------\n",
      "[[  873375 15813369  1003842  4361214 26917348   569544]\n",
      " [20383680  7416846  7627455  4077926 33024456 23948100]\n",
      " [21165536 14457645  6672990  4171171  5500494 31158096]\n",
      " [ 3082008 19660325 16348212  6469050 14153424 18041625]\n",
      " [ 2741429 10057820 21950115 16916428 11415022  4506624]\n",
      " [14989187  2290032 11507316  1511757  1938060  5701966]]\n"
     ]
    }
   ],
   "source": [
    "arr1 = np.random.randint(40,6565,(6,6))\n",
    "print(\"-\"*40)\n",
    "print(\"array1    :\")\n",
    "print(\"-\"*40)\n",
    "print(arr1)\n",
    "print(\"-\"*40)\n",
    "arr2 = np.random.randint(30,5454,(6,6))\n",
    "print(\"-\"*40)\n",
    "print(\"arra2   :\")\n",
    "print(\"-\"*40)\n",
    "print(arr2)\n",
    "print(\"-\"*40)\n",
    "print(\"multiplication of arry1 and array2  is   :\")\n",
    "print(\"-\"*40)\n",
    "print(arr1*arr2)"
   ]
  },
  {
   "cell_type": "markdown",
   "id": "48b3134d",
   "metadata": {},
   "source": [
    "# d )division"
   ]
  },
  {
   "cell_type": "code",
   "execution_count": 63,
   "id": "79d4dfff",
   "metadata": {},
   "outputs": [
    {
     "name": "stdout",
     "output_type": "stream",
     "text": [
      "[[0.07445255 0.71010807 0.26318484 0.23575913 1.58268671 2.73903509]\n",
      " [1.45182813 3.48902606 0.46387176 2.64786463 1.28171789 1.57935285]\n",
      " [1.81381733 1.42879598 0.71545514 1.1890016  5.51151151 1.32570132]\n",
      " [1.08422301 1.27617834 2.09120172 0.35950024 0.82061161 0.70049261]\n",
      " [0.38773975 0.79628588 1.13121453 0.81496927 0.58403076 0.16564417]\n",
      " [2.57859809 5.4537037  0.82224004 0.18651212 0.10171821 2.27542641]]\n"
     ]
    }
   ],
   "source": [
    "print(arr1/arr2)"
   ]
  },
  {
   "cell_type": "markdown",
   "id": "9afd8bde",
   "metadata": {},
   "source": [
    "# mean variance and standerd deavation "
   ]
  },
  {
   "cell_type": "markdown",
   "id": "6801af40",
   "metadata": {},
   "source": [
    "In NumPy, we can compute the mean, standard deviation, and variance of a given array along the second axis by two approaches first is by using inbuilt functions and second is by the formulas of the mean, standard deviation, and variance.\n",
    "\n",
    "Using numpy.mean(), numpy.std(), numpy.var()"
   ]
  },
  {
   "cell_type": "code",
   "execution_count": 71,
   "id": "29fa36c2",
   "metadata": {},
   "outputs": [
    {
     "name": "stdout",
     "output_type": "stream",
     "text": [
      "[[66 70 52 59 89 83]\n",
      " [46 38 59 68 68 44]\n",
      " [86 84 72 66 30 34]\n",
      " [74 67 50 39 80 46]\n",
      " [80 65 68 38 45 69]\n",
      " [32 79 65 63 45 45]]\n",
      "------------------------------\n",
      "mean                   : 60.111111111111114\n",
      "------------------------------\n",
      "variance               : 275.9320987654321\n",
      "------------------------------\n",
      "standerd deavation     : 16.611204013118137\n",
      "------------------------------\n"
     ]
    }
   ],
   "source": [
    "arr = np.random.randint(30,90,(6,6))\n",
    "print(arr)\n",
    "print(\"-\"*30)\n",
    "print(\"mean                   :\",arr.mean())\n",
    "print(\"-\"*30)\n",
    "print(\"variance               :\",arr.var())\n",
    "print(\"-\"*30)\n",
    "print(\"standerd deavation     :\",arr.std())\n",
    "print(\"-\"*30)\n"
   ]
  },
  {
   "cell_type": "markdown",
   "id": "97e7a360",
   "metadata": {},
   "source": [
    "# filtering arrys"
   ]
  },
  {
   "cell_type": "code",
   "execution_count": 79,
   "id": "546e8c6c",
   "metadata": {},
   "outputs": [
    {
     "name": "stdout",
     "output_type": "stream",
     "text": [
      "[[3413 5893 5314 4168 5639 4761]\n",
      " [5206 3259 3977 5752 3294 4146]\n",
      " [3158 3277 5074 4887 5570 5885]\n",
      " [5596 4161 5420 3750 5432 5103]\n",
      " [3491 4645 4290 5307 5509 5085]\n",
      " [3656 3281 5795 5939 5439 4664]]\n",
      "--------------------------------------------------\n",
      "arr  > 4657\n",
      "--------------------------------------------------\n",
      "[[False  True  True False  True  True]\n",
      " [ True False False  True False False]\n",
      " [False False  True  True  True  True]\n",
      " [ True False  True False  True  True]\n",
      " [False  True False  True  True  True]\n",
      " [False False  True  True  True  True]]\n",
      "--------------------------------------------------\n"
     ]
    }
   ],
   "source": [
    "arr = np.random.randint(3000,6000,(6,6))\n",
    "print(arr)\n",
    "print(\"-\"*50)\n",
    "print(\"arr  > 4657\")\n",
    "print(\"-\"*50)\n",
    "print(arr>4567)\n",
    "print(\"-\"*50)"
   ]
  },
  {
   "cell_type": "markdown",
   "id": "97158fe0",
   "metadata": {},
   "source": [
    "# transposing array"
   ]
  },
  {
   "cell_type": "markdown",
   "id": "7b9d9f78",
   "metadata": {},
   "source": [
    "\n",
    "With the help of Numpy ndarray.T object, we can make a Transpose of an array having dimension greater than or equal to 2."
   ]
  },
  {
   "cell_type": "code",
   "execution_count": null,
   "id": "aed147d0",
   "metadata": {},
   "outputs": [],
   "source": []
  },
  {
   "cell_type": "code",
   "execution_count": 85,
   "id": "d2343c86",
   "metadata": {},
   "outputs": [
    {
     "name": "stdout",
     "output_type": "stream",
     "text": [
      "[[663 588 409 562 653 468]\n",
      " [521 541 499 528 434 598]\n",
      " [416 565 673 566 527 482]\n",
      " [414 565 651 633 561 577]\n",
      " [605 499 559 586 524 601]\n",
      " [684 586 622 669 438 491]]\n",
      "----------------------------------------\n",
      "transposing array is   :\n",
      "----------------------------------------\n"
     ]
    },
    {
     "ename": "NameError",
     "evalue": "name 'T' is not defined",
     "output_type": "error",
     "traceback": [
      "\u001b[1;31m---------------------------------------------------------------------------\u001b[0m",
      "\u001b[1;31mNameError\u001b[0m                                 Traceback (most recent call last)",
      "Cell \u001b[1;32mIn[85], line 6\u001b[0m\n\u001b[0;32m      4\u001b[0m \u001b[38;5;28mprint\u001b[39m(\u001b[38;5;124m\"\u001b[39m\u001b[38;5;124mtransposing array is   :\u001b[39m\u001b[38;5;124m\"\u001b[39m)\n\u001b[0;32m      5\u001b[0m \u001b[38;5;28mprint\u001b[39m(\u001b[38;5;124m\"\u001b[39m\u001b[38;5;124m-\u001b[39m\u001b[38;5;124m\"\u001b[39m\u001b[38;5;241m*\u001b[39m\u001b[38;5;241m40\u001b[39m)\n\u001b[1;32m----> 6\u001b[0m \u001b[38;5;28mprint\u001b[39m(arr,T)\n",
      "\u001b[1;31mNameError\u001b[0m: name 'T' is not defined"
     ]
    }
   ],
   "source": [
    "arr = np.random.randint(400,700,(6,6))\n",
    "print(arr)\n",
    "print(\"-\"*40)\n",
    "print(\"transposing array is   :\")\n",
    "print(\"-\"*40)\n",
    "print(arr,T)\n"
   ]
  },
  {
   "cell_type": "markdown",
   "id": "bad4b8d3",
   "metadata": {},
   "source": [
    "# merging arrays"
   ]
  },
  {
   "cell_type": "markdown",
   "id": "d8d02f04",
   "metadata": {},
   "source": [
    "# a ) concatination"
   ]
  },
  {
   "cell_type": "code",
   "execution_count": 97,
   "id": "4797800a",
   "metadata": {},
   "outputs": [
    {
     "name": "stdout",
     "output_type": "stream",
     "text": [
      "----------------------------------------\n",
      "[[61 48 58 70 56 50]\n",
      " [73 67 54 59 52 46]\n",
      " [51 64 60 50 65 62]\n",
      " [57 56 69 76 67 69]\n",
      " [75 68 45 68 53 59]\n",
      " [55 74 75 55 48 58]]\n",
      "----------------------------------------\n",
      "----------------------------------------\n",
      "[[32 27 63 46 40 23]\n",
      " [62 40 40 55 52 37]\n",
      " [53 61 55 46 62 23]\n",
      " [60 25 63 65 41 23]\n",
      " [41 53 30 29 55 23]\n",
      " [65 63 60 62 47 63]]\n",
      "----------------------------------------\n",
      "concatination of arr 1 and arry2  is:\n",
      "----------------------------------------\n",
      "[[61 48 58 70 56 50 32 27 63 46 40 23]\n",
      " [73 67 54 59 52 46 62 40 40 55 52 37]\n",
      " [51 64 60 50 65 62 53 61 55 46 62 23]\n",
      " [57 56 69 76 67 69 60 25 63 65 41 23]\n",
      " [75 68 45 68 53 59 41 53 30 29 55 23]\n",
      " [55 74 75 55 48 58 65 63 60 62 47 63]]\n"
     ]
    }
   ],
   "source": [
    "arr1 = np.random.randint(45,78,(6,6))\n",
    "print(\"-\"*40)\n",
    "print(arr1)\n",
    "print(\"-\"*40)\n",
    "arr2 = np.random.randint(23,67,(6,6))\n",
    "print(\"-\"*40)\n",
    "print(arr2)\n",
    "print(\"-\"*40)\n",
    "print(\"concatination of arr 1 and arry2  is:\")\n",
    "print(\"-\"*40)\n",
    "print(np.concatenate((arr1,arr2), axis = 1))"
   ]
  },
  {
   "cell_type": "markdown",
   "id": "081772ea",
   "metadata": {},
   "source": [
    "# spliting arrays"
   ]
  },
  {
   "cell_type": "code",
   "execution_count": 100,
   "id": "1fdc861c",
   "metadata": {},
   "outputs": [
    {
     "name": "stdout",
     "output_type": "stream",
     "text": [
      "[array([[72, 53, 62, 72, 64, 52],\n",
      "       [50, 71, 57, 77, 56, 68],\n",
      "       [79, 55, 71, 67, 54, 66]]), array([[53, 69, 71, 69, 54, 69],\n",
      "       [66, 53, 74, 75, 66, 73],\n",
      "       [72, 71, 66, 51, 54, 56]])]\n",
      "[array([[72, 53, 62, 72, 64, 52],\n",
      "       [50, 71, 57, 77, 56, 68]]), array([[79, 55, 71, 67, 54, 66],\n",
      "       [53, 69, 71, 69, 54, 69]]), array([[66, 53, 74, 75, 66, 73],\n",
      "       [72, 71, 66, 51, 54, 56]])]\n"
     ]
    }
   ],
   "source": [
    "arr = np.random.randint(50,80,(6,6))\n",
    "arr\n",
    "print(np.vsplit(arr,2))\n",
    "print(np.vsplit(arr,3))"
   ]
  },
  {
   "cell_type": "code",
   "execution_count": null,
   "id": "ea3b394d",
   "metadata": {},
   "outputs": [],
   "source": []
  }
 ],
 "metadata": {
  "kernelspec": {
   "display_name": "Python 3 (ipykernel)",
   "language": "python",
   "name": "python3"
  },
  "language_info": {
   "codemirror_mode": {
    "name": "ipython",
    "version": 3
   },
   "file_extension": ".py",
   "mimetype": "text/x-python",
   "name": "python",
   "nbconvert_exporter": "python",
   "pygments_lexer": "ipython3",
   "version": "3.11.5"
  }
 },
 "nbformat": 4,
 "nbformat_minor": 5
}
